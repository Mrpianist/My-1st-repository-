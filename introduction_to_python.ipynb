{
  "nbformat": 4,
  "nbformat_minor": 0,
  "metadata": {
    "colab": {
      "name": "introduction to python.ipynb",
      "provenance": [],
      "authorship_tag": "ABX9TyO6lUcOQr2nkCVK18w8qyfr",
      "include_colab_link": true
    },
    "kernelspec": {
      "name": "python3",
      "display_name": "Python 3"
    }
  },
  "cells": [
    {
      "cell_type": "markdown",
      "metadata": {
        "id": "view-in-github",
        "colab_type": "text"
      },
      "source": [
        "<a href=\"https://colab.research.google.com/github/Mrpianist/My-1st-repository-/blob/master/introduction_to_python.ipynb\" target=\"_parent\"><img src=\"https://colab.research.google.com/assets/colab-badge.svg\" alt=\"Open In Colab\"/></a>"
      ]
    },
    {
      "cell_type": "code",
      "metadata": {
        "id": "XLLI-LgyxPaQ",
        "colab_type": "code",
        "colab": {}
      },
      "source": [
        ""
      ],
      "execution_count": 0,
      "outputs": []
    },
    {
      "cell_type": "markdown",
      "metadata": {
        "id": "1UXpQiUnLs68",
        "colab_type": "text"
      },
      "source": [
        "This"
      ]
    },
    {
      "cell_type": "markdown",
      "metadata": {
        "id": "PzmjB2LRLvcM",
        "colab_type": "text"
      },
      "source": [
        "this is used for trial\n",
        "\n",
        "\n"
      ]
    },
    {
      "cell_type": "code",
      "metadata": {
        "id": "jsKMlsTOMByU",
        "colab_type": "code",
        "colab": {}
      },
      "source": [
        "name"
      ],
      "execution_count": 0,
      "outputs": []
    },
    {
      "cell_type": "code",
      "metadata": {
        "id": "dMofTkzVNcoi",
        "colab_type": "code",
        "colab": {}
      },
      "source": [
        "name= \"ROGER\""
      ],
      "execution_count": 0,
      "outputs": []
    },
    {
      "cell_type": "code",
      "metadata": {
        "id": "TfwTNDkPPI8C",
        "colab_type": "code",
        "colab": {
          "base_uri": "https://localhost:8080/",
          "height": 34
        },
        "outputId": "4dd3b1ae-6dc0-49e5-a2a4-e5a9738e04bf"
      },
      "source": [
        "\"ROGER\""
      ],
      "execution_count": 6,
      "outputs": [
        {
          "output_type": "execute_result",
          "data": {
            "text/plain": [
              "'ROGER'"
            ]
          },
          "metadata": {
            "tags": []
          },
          "execution_count": 6
        }
      ]
    },
    {
      "cell_type": "code",
      "metadata": {
        "id": "OxnAY25VPKnk",
        "colab_type": "code",
        "colab": {}
      },
      "source": [
        "#variable of type string "
      ],
      "execution_count": 0,
      "outputs": []
    },
    {
      "cell_type": "code",
      "metadata": {
        "id": "yEqQprxFQidt",
        "colab_type": "code",
        "colab": {}
      },
      "source": [
        "# form of number\n",
        "\n",
        "age = 30  "
      ],
      "execution_count": 0,
      "outputs": []
    },
    {
      "cell_type": "code",
      "metadata": {
        "id": "cMMT1wwBRViy",
        "colab_type": "code",
        "colab": {}
      },
      "source": [
        "age = 30"
      ],
      "execution_count": 0,
      "outputs": []
    },
    {
      "cell_type": "code",
      "metadata": {
        "id": "m372AvuKR4sV",
        "colab_type": "code",
        "colab": {
          "base_uri": "https://localhost:8080/",
          "height": 34
        },
        "outputId": "d011553b-04fe-4ed8-b244-3f6306ba3300"
      },
      "source": [
        "age"
      ],
      "execution_count": 11,
      "outputs": [
        {
          "output_type": "execute_result",
          "data": {
            "text/plain": [
              "30"
            ]
          },
          "metadata": {
            "tags": []
          },
          "execution_count": 11
        }
      ]
    },
    {
      "cell_type": "code",
      "metadata": {
        "id": "r-mTm1T4R7Cc",
        "colab_type": "code",
        "colab": {
          "base_uri": "https://localhost:8080/",
          "height": 51
        },
        "outputId": "1bb61562-438e-4b38-9ff3-90f981c07c5c"
      },
      "source": [
        "#print multiple variables\n",
        "print(name)\n",
        "print(age)\n"
      ],
      "execution_count": 13,
      "outputs": [
        {
          "output_type": "stream",
          "text": [
            "ROGER\n",
            "30\n"
          ],
          "name": "stdout"
        }
      ]
    },
    {
      "cell_type": "code",
      "metadata": {
        "id": "k4cosuIKSYKc",
        "colab_type": "code",
        "colab": {}
      },
      "source": [
        "#boolean values\n",
        "\n",
        "female = False"
      ],
      "execution_count": 0,
      "outputs": []
    },
    {
      "cell_type": "code",
      "metadata": {
        "id": "XLK4X9kNTk1E",
        "colab_type": "code",
        "colab": {
          "base_uri": "https://localhost:8080/",
          "height": 34
        },
        "outputId": "624f6a13-85c3-475e-b1e4-c27742bfa384"
      },
      "source": [
        "female "
      ],
      "execution_count": 16,
      "outputs": [
        {
          "output_type": "execute_result",
          "data": {
            "text/plain": [
              "False"
            ]
          },
          "metadata": {
            "tags": []
          },
          "execution_count": 16
        }
      ]
    },
    {
      "cell_type": "code",
      "metadata": {
        "id": "Pr_kHohBT4BK",
        "colab_type": "code",
        "colab": {}
      },
      "source": [
        "#floating numbers\n",
        "percentage = 70.66"
      ],
      "execution_count": 0,
      "outputs": []
    },
    {
      "cell_type": "code",
      "metadata": {
        "id": "Nhe7XAcOUIl9",
        "colab_type": "code",
        "colab": {
          "base_uri": "https://localhost:8080/",
          "height": 34
        },
        "outputId": "93669c31-fd98-490b-e21f-6c8a06bdbb69"
      },
      "source": [
        "percentage"
      ],
      "execution_count": 18,
      "outputs": [
        {
          "output_type": "execute_result",
          "data": {
            "text/plain": [
              "70.66"
            ]
          },
          "metadata": {
            "tags": []
          },
          "execution_count": 18
        }
      ]
    },
    {
      "cell_type": "code",
      "metadata": {
        "id": "iCvaNlWtVCUU",
        "colab_type": "code",
        "colab": {}
      },
      "source": [
        ""
      ],
      "execution_count": 0,
      "outputs": []
    },
    {
      "cell_type": "markdown",
      "metadata": {
        "id": "g39ISGTfVJJB",
        "colab_type": "text"
      },
      "source": [
        "list stores a group of values"
      ]
    },
    {
      "cell_type": "code",
      "metadata": {
        "id": "mitf3TaPVM-X",
        "colab_type": "code",
        "colab": {}
      },
      "source": [
        "marks = [70.66,45.20,63.66,\"ROGER\",True]"
      ],
      "execution_count": 0,
      "outputs": []
    },
    {
      "cell_type": "code",
      "metadata": {
        "id": "4vq3I94oVfYt",
        "colab_type": "code",
        "colab": {
          "base_uri": "https://localhost:8080/",
          "height": 34
        },
        "outputId": "b3fa2539-0e7a-465f-febb-84542cee1bc6"
      },
      "source": [
        "marks"
      ],
      "execution_count": 21,
      "outputs": [
        {
          "output_type": "execute_result",
          "data": {
            "text/plain": [
              "[70.66, 45.2, 63.66, 'ROGER', True]"
            ]
          },
          "metadata": {
            "tags": []
          },
          "execution_count": 21
        }
      ]
    },
    {
      "cell_type": "code",
      "metadata": {
        "id": "2f5Cni0xVhTn",
        "colab_type": "code",
        "colab": {
          "base_uri": "https://localhost:8080/",
          "height": 34
        },
        "outputId": "b2207f70-1cf8-4eec-ae9d-8cd9ca960b91"
      },
      "source": [
        "marks[3]"
      ],
      "execution_count": 22,
      "outputs": [
        {
          "output_type": "execute_result",
          "data": {
            "text/plain": [
              "'ROGER'"
            ]
          },
          "metadata": {
            "tags": []
          },
          "execution_count": 22
        }
      ]
    },
    {
      "cell_type": "code",
      "metadata": {
        "id": "Su7rD06CWN5I",
        "colab_type": "code",
        "colab": {}
      },
      "source": [
        "education = {'tenth':70.66,'twelth':45.20,'garduation':63.66,'name':'ROGER','Male':True}"
      ],
      "execution_count": 0,
      "outputs": []
    },
    {
      "cell_type": "code",
      "metadata": {
        "id": "UcTtGGS_YkDG",
        "colab_type": "code",
        "colab": {
          "base_uri": "https://localhost:8080/",
          "height": 102
        },
        "outputId": "6c4db6d0-4601-4896-a190-5cb8949f1886"
      },
      "source": [
        "education"
      ],
      "execution_count": 25,
      "outputs": [
        {
          "output_type": "execute_result",
          "data": {
            "text/plain": [
              "{'Male': True,\n",
              " 'garduation': 63.66,\n",
              " 'name': 'ROGER',\n",
              " 'tenth': 70.66,\n",
              " 'twelth': 45.2}"
            ]
          },
          "metadata": {
            "tags": []
          },
          "execution_count": 25
        }
      ]
    },
    {
      "cell_type": "code",
      "metadata": {
        "id": "ECOegsskYn9b",
        "colab_type": "code",
        "colab": {}
      },
      "source": [
        ""
      ],
      "execution_count": 0,
      "outputs": []
    },
    {
      "cell_type": "markdown",
      "metadata": {
        "id": "FtB9Ras7ZSv0",
        "colab_type": "text"
      },
      "source": [
        "#selecting an item from a dictionary \n",
        "#print only you 10th Grade\n"
      ]
    },
    {
      "cell_type": "code",
      "metadata": {
        "id": "n79wgFw2bpCt",
        "colab_type": "code",
        "colab": {}
      },
      "source": [
        ""
      ],
      "execution_count": 0,
      "outputs": []
    },
    {
      "cell_type": "code",
      "metadata": {
        "id": "VrFbLTUvZeKF",
        "colab_type": "code",
        "colab": {
          "base_uri": "https://localhost:8080/",
          "height": 34
        },
        "outputId": "ca141fdd-66dd-4215-f3ce-f3f370eb5e8a"
      },
      "source": [
        "education['tenth']"
      ],
      "execution_count": 26,
      "outputs": [
        {
          "output_type": "execute_result",
          "data": {
            "text/plain": [
              "70.66"
            ]
          },
          "metadata": {
            "tags": []
          },
          "execution_count": 26
        }
      ]
    },
    {
      "cell_type": "code",
      "metadata": {
        "id": "EVk2x9SJZ_Kt",
        "colab_type": "code",
        "colab": {
          "base_uri": "https://localhost:8080/",
          "height": 34
        },
        "outputId": "55866db0-a481-47ec-d50d-f1afaa8011a7"
      },
      "source": [
        "education.keys()"
      ],
      "execution_count": 28,
      "outputs": [
        {
          "output_type": "execute_result",
          "data": {
            "text/plain": [
              "dict_keys(['tenth', 'twelth', 'garduation', 'name', 'Male'])"
            ]
          },
          "metadata": {
            "tags": []
          },
          "execution_count": 28
        }
      ]
    },
    {
      "cell_type": "code",
      "metadata": {
        "id": "Ki8mj0LRdNC3",
        "colab_type": "code",
        "colab": {}
      },
      "source": [
        "#print the marks for student 2 (only his graduation score)\n",
        "\n",
        "students['stu2'][2]"
      ],
      "execution_count": 0,
      "outputs": []
    },
    {
      "cell_type": "code",
      "metadata": {
        "id": "4geNOC8OaDYt",
        "colab_type": "code",
        "colab": {
          "base_uri": "https://localhost:8080/",
          "height": 34
        },
        "outputId": "b0b8a2a4-334f-4720-ab0e-42dbd0c55460"
      },
      "source": [
        "education.values()"
      ],
      "execution_count": 29,
      "outputs": [
        {
          "output_type": "execute_result",
          "data": {
            "text/plain": [
              "dict_values([70.66, 45.2, 63.66, 'ROGER', True])"
            ]
          },
          "metadata": {
            "tags": []
          },
          "execution_count": 29
        }
      ]
    },
    {
      "cell_type": "code",
      "metadata": {
        "id": "n_xM4e-HaUBr",
        "colab_type": "code",
        "colab": {
          "base_uri": "https://localhost:8080/",
          "height": 34
        },
        "outputId": "f156d840-c4f7-4694-aa13-a277ebf6423a"
      },
      "source": [
        "#print out the length of list marks\n",
        "\n",
        "len(marks)"
      ],
      "execution_count": 35,
      "outputs": [
        {
          "output_type": "execute_result",
          "data": {
            "text/plain": [
              "5"
            ]
          },
          "metadata": {
            "tags": []
          },
          "execution_count": 35
        }
      ]
    },
    {
      "cell_type": "markdown",
      "metadata": {
        "id": "TiLTd0qObqpG",
        "colab_type": "text"
      },
      "source": [
        "#make a list containing a dictionary"
      ]
    },
    {
      "cell_type": "code",
      "metadata": {
        "id": "2kqGzZF0b1Hw",
        "colab_type": "code",
        "colab": {}
      },
      "source": [
        "friends=[{'name':'Nitin','age':24},{'name':'Annirudh','age':26}]"
      ],
      "execution_count": 0,
      "outputs": []
    },
    {
      "cell_type": "code",
      "metadata": {
        "id": "1thtf5gXczYi",
        "colab_type": "code",
        "colab": {}
      },
      "source": [
        "#print the marks for student 2 (only his graduation score)\n",
        "\n",
        "students['stu2'][2]"
      ],
      "execution_count": 0,
      "outputs": []
    },
    {
      "cell_type": "code",
      "metadata": {
        "id": "RjdLNjW9d__1",
        "colab_type": "code",
        "colab": {}
      },
      "source": [
        "student={'st1':[88,63,97],\n",
        "         'st2':[55,64,85],\n",
        "         'st3':[87,99,75]}"
      ],
      "execution_count": 0,
      "outputs": []
    },
    {
      "cell_type": "code",
      "metadata": {
        "id": "1Pgj3aEhemBI",
        "colab_type": "code",
        "colab": {
          "base_uri": "https://localhost:8080/",
          "height": 34
        },
        "outputId": "c07cef3b-0d97-41bb-ce10-174a758e23fb"
      },
      "source": [
        "#print the marks for student 2 (only his graduation score)\n",
        "\n",
        "student['st2'][2]"
      ],
      "execution_count": 34,
      "outputs": [
        {
          "output_type": "execute_result",
          "data": {
            "text/plain": [
              "85"
            ]
          },
          "metadata": {
            "tags": []
          },
          "execution_count": 34
        }
      ]
    },
    {
      "cell_type": "code",
      "metadata": {
        "id": "yhLMIGs1eqem",
        "colab_type": "code",
        "colab": {
          "base_uri": "https://localhost:8080/",
          "height": 34
        },
        "outputId": "42816c7c-a28b-4dd8-95ad-4c46593c70e3"
      },
      "source": [
        "type(marks)"
      ],
      "execution_count": 36,
      "outputs": [
        {
          "output_type": "execute_result",
          "data": {
            "text/plain": [
              "list"
            ]
          },
          "metadata": {
            "tags": []
          },
          "execution_count": 36
        }
      ]
    },
    {
      "cell_type": "code",
      "metadata": {
        "id": "a29o21Kdf4Ha",
        "colab_type": "code",
        "colab": {}
      },
      "source": [
        "my_friends = ['Nitin','aakash','Bhavin']"
      ],
      "execution_count": 0,
      "outputs": []
    },
    {
      "cell_type": "code",
      "metadata": {
        "id": "eLD6lUq2ixyc",
        "colab_type": "code",
        "colab": {}
      },
      "source": [
        "my_friends"
      ],
      "execution_count": 0,
      "outputs": []
    },
    {
      "cell_type": "code",
      "metadata": {
        "id": "36fY5Ev0jvw2",
        "colab_type": "code",
        "colab": {}
      },
      "source": [
        "my_friends.append('James')"
      ],
      "execution_count": 0,
      "outputs": []
    },
    {
      "cell_type": "code",
      "metadata": {
        "id": "FgggekWykZpT",
        "colab_type": "code",
        "colab": {}
      },
      "source": [
        "my_friends.append('James')"
      ],
      "execution_count": 0,
      "outputs": []
    },
    {
      "cell_type": "code",
      "metadata": {
        "id": "iMZXHgaDkrR6",
        "colab_type": "code",
        "colab": {
          "base_uri": "https://localhost:8080/",
          "height": 34
        },
        "outputId": "ff059991-af0b-4d34-f548-e91cc0740a42"
      },
      "source": [
        "my_friends"
      ],
      "execution_count": 43,
      "outputs": [
        {
          "output_type": "execute_result",
          "data": {
            "text/plain": [
              "['Nitin', 'aakash', 'Bhavin', 'James']"
            ]
          },
          "metadata": {
            "tags": []
          },
          "execution_count": 43
        }
      ]
    },
    {
      "cell_type": "code",
      "metadata": {
        "id": "V6TE-fEIkxk8",
        "colab_type": "code",
        "colab": {}
      },
      "source": [
        "my_friends[0]='Aarti'"
      ],
      "execution_count": 0,
      "outputs": []
    },
    {
      "cell_type": "code",
      "metadata": {
        "id": "bcuUsUDPlCgK",
        "colab_type": "code",
        "colab": {
          "base_uri": "https://localhost:8080/",
          "height": 34
        },
        "outputId": "442bc22a-bd2b-4228-a3c0-d72cb9a87cc2"
      },
      "source": [
        "my_friends"
      ],
      "execution_count": 45,
      "outputs": [
        {
          "output_type": "execute_result",
          "data": {
            "text/plain": [
              "['Aarti', 'aakash', 'Bhavin', 'James']"
            ]
          },
          "metadata": {
            "tags": []
          },
          "execution_count": 45
        }
      ]
    },
    {
      "cell_type": "code",
      "metadata": {
        "id": "ppvEjfCblEX-",
        "colab_type": "code",
        "colab": {}
      },
      "source": [
        ""
      ],
      "execution_count": 0,
      "outputs": []
    }
  ]
}